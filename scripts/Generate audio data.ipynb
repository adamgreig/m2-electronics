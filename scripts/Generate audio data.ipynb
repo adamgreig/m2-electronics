{
 "metadata": {
  "name": "",
  "signature": "sha256:e030b1ef230dcaf95a0d412bd3a63189c396e2347fa3794ed5782ea1af0fb6ed"
 },
 "nbformat": 3,
 "nbformat_minor": 0,
 "worksheets": [
  {
   "cells": [
    {
     "cell_type": "code",
     "collapsed": false,
     "input": [
      "%cd ~/cusf/m2-electronics/m2r/firmware/"
     ],
     "language": "python",
     "metadata": {},
     "outputs": [
      {
       "output_type": "stream",
       "stream": "stdout",
       "text": [
        "/Users/fnoble/cusf/m2-electronics/m2r/firmware\n"
       ]
      }
     ],
     "prompt_number": 5
    },
    {
     "cell_type": "code",
     "collapsed": false,
     "input": [
      "import scipy.io.wavfile as wf\n",
      "import scipy.signal as sig"
     ],
     "language": "python",
     "metadata": {},
     "outputs": [],
     "prompt_number": 122
    },
    {
     "cell_type": "code",
     "collapsed": false,
     "input": [
      "def process(name):\n",
      "    wav = wf.read('audio/'+name+'.wav')[1].astype(np.float64); wav\n",
      "    wav_ = wav #** 1.1\n",
      "    out_wav = (wav_ / max(wav_) * 127 + 127).round().astype(np.uint8)\n",
      "    return out_wav"
     ],
     "language": "python",
     "metadata": {},
     "outputs": [],
     "prompt_number": 258
    },
    {
     "cell_type": "code",
     "collapsed": false,
     "input": [
      "def to_c(name, xs, ty='uint8_t'):\n",
      "    out = \"const %s %s[%d] = {\\n\" % (ty, name, len(xs))\n",
      "    hdr_out = \"extern const %s %s[%d];\\n\" % (ty, name, len(xs))\n",
      "    while len(xs) > 0:\n",
      "        xs_ = xs[:12]\n",
      "        out += \"  \"\n",
      "        for x in xs_:\n",
      "            out += \"%3d, \" % x\n",
      "        out += \"\\n\"\n",
      "        xs = xs[12:]\n",
      "    out += \"};\\n\\n\"\n",
      "    return out, hdr_out"
     ],
     "language": "python",
     "metadata": {},
     "outputs": [],
     "prompt_number": 262
    },
    {
     "cell_type": "code",
     "collapsed": false,
     "input": [
      "def wav2c(name):\n",
      "    xs = process(name)\n",
      "    return to_c(name, xs)"
     ],
     "language": "python",
     "metadata": {},
     "outputs": [],
     "prompt_number": 263
    },
    {
     "cell_type": "code",
     "collapsed": false,
     "input": [
      "files = ['one', 'two', 'three', 'four', 'five', 'six', 'seven', 'eight', 'nine', 'kft', 'drogue', 'main_chute']\n",
      "\n",
      "hdr_out = \"\"\"/*\n",
      " * Audio sample data\n",
      " * M2R\n",
      " * 2014 Fergus Noble, Cambridge University Spaceflight\n",
      " */\n",
      "\n",
      "#ifndef AUDIO_DATA_H\n",
      "#define AUDIO_DATA_H\n",
      "\n",
      "\"\"\"\n",
      "\n",
      "out = \"\"\"/*\n",
      " * Audio sample data\n",
      " * M2R\n",
      " * 2014 Fergus Noble, Cambridge University Spaceflight\n",
      " */\n",
      "\n",
      "#include <stdint.h>\n",
      "\n",
      "\"\"\"\n",
      "\n",
      "for f in files:\n",
      "    c = wav2c(f)\n",
      "    out += c[0]\n",
      "    hdr_out += c[1]\n",
      "    \n",
      "hdr_out += \"\"\"\n",
      "\n",
      "#endif /* AUDIO_DATA_H */\n",
      "\"\"\"\n",
      "    \n",
      "hdrf = open('audio_data.h', 'w')\n",
      "hdrf.write(hdr_out)\n",
      "hdrf.close()\n",
      "\n",
      "cf = open('audio_data.c', 'w')\n",
      "cf.write(out)\n",
      "cf.close()\n"
     ],
     "language": "python",
     "metadata": {},
     "outputs": [],
     "prompt_number": 268
    },
    {
     "cell_type": "code",
     "collapsed": false,
     "input": [],
     "language": "python",
     "metadata": {},
     "outputs": []
    }
   ],
   "metadata": {}
  }
 ]
}